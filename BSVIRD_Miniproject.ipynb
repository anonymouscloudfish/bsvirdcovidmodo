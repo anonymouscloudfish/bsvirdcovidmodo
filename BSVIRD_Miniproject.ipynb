{
 "cells": [
  {
   "cell_type": "markdown",
   "metadata": {},
   "source": [
    "# Modeling a COVID-19 Pandemic Using a BSVIRD Model\n",
    "Brian Yu, Josua Aponte-Serrano, and James Glazier\n",
    "\n",
    "The purpose of this demonstration is to provide background for the severe acute respiratory syndrome coronavirus 2 disease (COVID-19 or SARS-CoV-2) and provide a basic comprehensive tool that can allow users to actively see the effects certain variables have on the duration and death count of a coronavirus pandemic. "
   ]
  },
  {
   "cell_type": "markdown",
   "metadata": {},
   "source": [
    "## Biological Background\n",
    "In late December 2019, Chinese health authorities reported that a virus that had originated in the Wuhan, Hubei Province had been spreading rapidly throughout local communities. Within the following months the number of cases skyrocketed as the virus spread to other countries worldwide. This virus would later become known as the severe acute respiratory syndrome coronavirus 2 (SARS-CoV-2) and would soon become commonly referred to by the name COVID-19. As of December 26, 2020 a total of 80,666,011 cases and 1,764,080 deaths have been reported worldwide with a staggering 19,393,524 cases and 339,724 deaths being reported solely in the United States. \n",
    "\n",
    "COVID-19 transmission mainly occurs through airborne particle and droplet transmission (i.e. coughing or sneezing). Due to its airborne nature it is recommended to wear a mask to protect against transmission. Common symptoms include fever, cough, difficulty breathing, and fatigue. Finally COVID-19 has an incubation period of 2-14 days in which the infection is asymptomatic meaning that an individual has the viral infection but does not develop any visible symptoms. This quality is crucial as it means that a recipient is still capable of spreading the virus despite showing no signs of having the viral infection. "
   ]
  },
  {
   "cell_type": "markdown",
   "metadata": {},
   "source": [
    "## Mathematical and Compartmental Modeling\n",
    "\n",
    "In the field of epidemiology, mathematical modeling offers key insight into disease characteristics and transmission by incorporating the major components of a disease into simple mathematical equations. Models can ultimately be used as a measure to identify epidemiological parameters and necessary assumptions in order to properly aid in important prevention and public health decisions. To achieve this models often use the myriad of statistics, basic assumptions, equations, and key parameters associated with the disease in order to properly calculate potential outcomes produced by the disease. \n",
    "\n",
    "A compartmental epidemiological model serves to simplify the mathematical modeling of an infectious disease by dividing a given population into components based on their health condition. For instance in an SIR or Susceptible-Infected-Recovered model the given population is divided based on conditions of being \"susceptible\", \"infected\", or \"recovered\" from a given viral infection. Typically an SIR model will begin with an initial susceptible population and postulates a scenario in which one individual begins in the \"infected\" condition. Over time this \"infected\" individual will spread the viral infection through the rest of the \"susceptible\" population emulating the spread of an infection as a function of time. Within the SIR model this real world phenomenon translates into the movement of \"susceptible\" individuals into the \"infected\" compartment or condition. As the \"infected\" individuals recover from the viral infection they will be moved accordingly into the \"recovered\" category emulating their recovery from the disease. The movement between the compartments are conducted as accurately as possible through the usage of complex parameters and mathematical equations which seek to improve the emulation of viral transmission. Ultimately the complex behavior of compartmental epidemiological modeling allows for researchers, health officials, and students to achieve an incredibly intuitive understanding of the characteristics of a given viral infection.\n",
    "<img src=\"files/imagee2.png\">\n",
    "\n",
    "The BSVIRD model used within this application similarly seeks to impart an intuitive understanding of the characteristics of the SARS-CoV-2 virus. While the complexity of this model drastically surpasses the simple SIR model that we described before the fundamentals are the same. The BSVIRD model similarly uses compartments to emulate the various health statuses achieved by the initial populace with the dynamic movement between compartments being an emulation of various epidemiological characteristics. The only point of contention here is the added complexity in the form of extra compartments. \n",
    "\n",
    "BSVIRD stands for Birth-Susceptible-Vaccinated-Infected-Recovered-Death and similarly postulates a scenario in which we begin with one infected individual and a susceptible population. Since the model is serving to emulate SARS-CoV-2 dynamics the parameters used within this model have been adjusted to better emulate a SARS-CoV-2 pandemic situation. First and foremost the \"B\" and \"D\" listed within the model title represent the natural Birth and Death cycle of the population with added complexity for \"Deaths\" describing both deaths caused by natural events and deaths caused by SARS-CoV-2. It is important to note that the \"B\" and \"D\" are not listed as compartments of their own and instead lead in and out of the compartments. As they are not conventionally considered health conditions the main goal of including them is to facilitate a more accurate and complex understanding of Birth and Death dynamics as it relates to SARS-CoV-2. The addition of the \"V\" compartment rounds out the model serving as a conduit for the description of vaccination dynamics such as \"vaccination rate\" and \"vaccine efficacy\". The two arrows leading to and from the \"vaccinated\" compartment serve to explain the gain and loss of immunity that a vaccine offers hence the added ability for an individual to move between the \"susceptible\" and \"vaccinated\" compartments. The arrow that leads from the \"vaccinated\" compartment to the \"infected\" compartment seeks to describe a scenario in which a vaccinated individual becomes infected. While this scenario is certainly not standard it provides an interesting point of contention for further study and research.\n",
    "<img src=\"files/image.png\">\n",
    "\n",
    "### Equations\n",
    "The equations used within this model are listed below: \n",
    "\n",
    "    E1:    -> S  ; b * (S + V + I + R) ; // Birth rate\n",
    "    E2:  S -> V  ; d_prime * S ; // Vaccination rate per person\n",
    "    E3:  V -> S  ; gamma1 * V ; // Vaccinated immunity loss rate\n",
    "    E4:  S -> I  ; n * beta1 * I * S / S0 ; // Infection rate\n",
    "    E5:  V -> I  ; alpha1 * beta1 * n * V * I / S0 ; // Vaccine infection rate\n",
    "    E6:  I -> R  ; mu * I ; // Recovery rate\n",
    "    E7:  R -> S  ; gamma1 * R ; // Recovered immunity loss rate\n",
    "    E8:  S -> D1 ; d * S ; // Death rate of S\n",
    "    E9:  V -> D1 ; d * V ; // Death rate of V\n",
    "    E10: I -> D1 ; d * I ; // Death rate of I\n",
    "    E11: R -> D1 ; d * R ; // Death rate of R\n",
    "    E12: I -> D2 ; d2 * I ; // SARS-CoV-2 death rate\n",
    "\n",
    "### Important Parameters from Equations\n",
    "The parameters used within this model are listed below:\n",
    "\n",
    "    alpha1 := 1 - eff ; // Vaccine inefficacy\n",
    "    eff = 0.90 ; // Vaccine efficacy\n",
    "    beta1 = 0.94 ; // Probability of infection per encounter\n",
    "    gamma1 := 1 / imm_dur ; // Immunity loss rate\n",
    "    imm_dur = 2 * 180 ; // Duration of immunity in days\n",
    "    n = 0.455 ; // Numbers of encounters per person per day\n",
    "    mu := 1 / inf_dur ; // Infection lasts 14 days\n",
    "    inf_dur = 14 ; // Duration of infection in days \n",
    "    b = 1.1 / (80 * 365) ; // Births per person per day\n",
    "    d = 1.0 / (80 * 365) ; // Deaths per person per day\n",
    "    d2 = ((0.003 * mu) * 2) - d ; // SARS-CoV-2 deaths per person per day\n",
    "    d_prime = 0 ; // Vaccination rate\n",
    "    at(time > start_time): d_prime = vaccines/365 ; // Vaccination rate\n",
    "    start_time = 365 ; // Vaccine is released in 1 year\n",
    "    vaccines = 0 ; // Number of vaccinations per person per year\n",
    "\n",
    "### Assumptions, Contentions, and Initial conditions\n",
    "This mathematical model does make some necessary assumptions in order to allow the compartmental model to function properly. This information is listed below: \n",
    " - ##### Initial Susceptible Population: 300,000,000\n",
    "This initial susceptible population was originally derived from the total United States population which is roughly 328.2 million. The number used within this application is 300 million but it is important to note that this number is not representative of other areas in which the population could vary significantly from this number. \n",
    " - ##### Initial Infected Population: 1\n",
    "The initial infected population is 1. Similarly to the aforementioned SIR model this BSVIRD model is based off a postulated scenario in which the pandemic scenario begins with one infected individual hence the initial infected population being one person.\n",
    " - ##### Infection Duration: 14 days\n",
    "The infection duration of COVID-19 within this model is 14 days. This number is based off of the COVID-19 infection duration being around 2-14 days. This model utilizes 14 days as an upper limit assumption of the infection duration. \n",
    " - ##### Number of Encounters per Person per Day: 0.455\n",
    "Number of encounters per person per day is set to around 0.455. This means that you are likely to encounter 0.455 people per day on average. This information alongside the above infection duration information assumes that each infected individual will infect roughly 7 people within a given infection period of 14 days. \n",
    " - ##### Probability of Infection per Encounter: 0.94\n",
    "This is an assumed number that postulates a 94% infection rate per encounter with an \"infected\" individual. It is merely an assumption as this doesn't take into account features such as social distancing, mask wearing, and quarantining to prevent the infection and spread of the virus. "
   ]
  },
  {
   "cell_type": "code",
   "execution_count": 11,
   "metadata": {},
   "outputs": [],
   "source": [
    "import tellurium as te\n",
    "import numpy as np\n",
    "from ipywidgets import *\n",
    "\n",
    "BSVIRD_Model = '''\n",
    "    // Equations\n",
    "    E1:    -> S  ; b * (S + V + I + R) ; // Birth rate\n",
    "    E2:  S -> V  ; d_prime * S ; // Vaccination rate per person\n",
    "    E3:  V -> S  ; gamma1 * V ; // Vaccinated immunity loss rate\n",
    "    E4:  S -> I  ; n * beta1 * I * S / S0 ; // Infection rate\n",
    "    E5:  V -> I  ; alpha1 * beta1 * n * V * I / S0 ; // Vaccine infection rate\n",
    "    E6:  I -> R  ; mu * I ; // Recovery rate\n",
    "    E7:  R -> S  ; gamma1 * R ; // Recovered immunity loss rate\n",
    "    E8:  S -> D1 ; d * S ; // Death rate of S\n",
    "    E9:  V -> D1 ; d * V ; // Death rate of V\n",
    "    E10: I -> D1 ; d * I ; // Death rate of I\n",
    "    E11: R -> D1 ; d * R ; // Death rate of R\n",
    "    E12: I -> D2 ; d2 * I ; // SARS-CoV-2 death rate\n",
    "     \n",
    "    R0 := ((beta1 * n) / mu) * S / Total ; // Average number of recipiants of a disease from a single infected person\n",
    "    Total := S + V + I + R ; // Total population\n",
    "    Disease_Deaths := E12 / (E8 + E9 + E10 + E11 + E12) ; // Percentage of deaths caused by SARS-CoV-2\n",
    "    \n",
    "    // Parameters\n",
    "    alpha1 := 1 - eff ; // Vaccine inefficacy\n",
    "    eff = 0.90 ; // Vaccine efficacy\n",
    "    beta1 = 0.94 ; // Probability of infection per encounter\n",
    "    gamma1 := 1 / imm_dur ; // Immunity loss rate\n",
    "    imm_dur = 2 * 180 ; // Duration of immunity in days\n",
    "    n = 0.455 ; // Numbers of encounters per person per day\n",
    "    mu := 1 / inf_dur ; // Infection lasts 14 days\n",
    "    inf_dur = 14 ; // Duration of infection in days\n",
    "    b = 1.1 / (80 * 365) ; // Births per person per day\n",
    "    d = 1.0 / (80 * 365) ; // Deaths per person per day\n",
    "    d2 = ((0.003 * mu) * 2) - d ; // SARS-CoV-2 deaths per person per day\n",
    "    d_prime = 0 ; // Vaccination rate\n",
    "    at(time > start_time): d_prime = vaccines/365 ; // Vaccination rate\n",
    "    start_time = 365 ; // Vaccine is released in 1 year\n",
    "    vaccines = 0 ; // Number of vaccinations per person per year\n",
    "    \n",
    "    // Initial Conditions\n",
    "    S0 = 3E8 ; // Initial susceptible population\n",
    "    I0 = 1 ; // Initial infected population\n",
    "    I = I0 ; // Start with one infected person\n",
    "    S = S0 - I ; // Start with S0 - I uninfected people\n",
    "    R = 0 ; // No recovered to start with\n",
    "    \n",
    "    D1 = 1 ; // Total number of deaths\n",
    "    D2 = 0 ; // Total number of SARS-CoV-2 deaths\n",
    "'''"
   ]
  },
  {
   "cell_type": "markdown",
   "metadata": {},
   "source": [
    "## Simulation: Graphical Analysis\n",
    "\n",
    "This simulation is a graphical showcase of several important variables related to the disease transmission of the SARS-CoV-2 pandemic modeled as a function of time. The graphs are modeled after a scenario in which a pandemic occurs and no vaccine is administered. Listed below are three adjustable parameters that allow you to adjust some parameters of the graphs below. These include:\n",
    " - #### Infection Duration\n",
    "This parameter governs the infection duration of the SARS-CoV-2 virus. By adjusting this parameter you adjust the duration that an individual remains infected by the virus. The initial value is set to 14 days. \n",
    " - #### Infection Percentage\n",
    "This parameter governs the probability of infection per encounter. By adjusting this parameter you adjust the infection per encounter probability. The initial value is set to 0.94 or 94%. \n",
    " - #### Immunity Duration\n",
    "This parameter governs the immune duration of both vaccines and recovering \"infected\" individuals. By adjusting this parameter you adjust the period of time in which a vaccine protects you from viral infection by way of SARS-CoV-2. The initial value is set to 365 days."
   ]
  },
  {
   "cell_type": "markdown",
   "metadata": {},
   "source": [
    "This graph describes the natural death rate (D1) and the deaths caused by COVID-19 (D2) as a function of time. As seen below the natural death rate of the population will stay the same throughout the entire duration while the deaths caused by COVID-19 will jump briefly before slowly moving upwards."
   ]
  },
  {
   "cell_type": "code",
   "execution_count": 12,
   "metadata": {},
   "outputs": [
    {
     "data": {
      "application/vnd.jupyter.widget-view+json": {
       "model_id": "8d93969de4c542ceb5379b7e1924c673",
       "version_major": 2,
       "version_minor": 0
      },
      "text/html": [
       "<p>Failed to display Jupyter Widget of type <code>interactive</code>.</p>\n",
       "<p>\n",
       "  If you're reading this message in the Jupyter Notebook or JupyterLab Notebook, it may mean\n",
       "  that the widgets JavaScript is still loading. If this message persists, it\n",
       "  likely means that the widgets JavaScript library is either not installed or\n",
       "  not enabled. See the <a href=\"https://ipywidgets.readthedocs.io/en/stable/user_install.html\">Jupyter\n",
       "  Widgets Documentation</a> for setup instructions.\n",
       "</p>\n",
       "<p>\n",
       "  If you're reading this message in another frontend (for example, a static\n",
       "  rendering on GitHub or <a href=\"https://nbviewer.jupyter.org/\">NBViewer</a>),\n",
       "  it may mean that your frontend doesn't currently support widgets.\n",
       "</p>\n"
      ],
      "text/plain": [
       "interactive(children=(IntSlider(value=14, continuous_update=False, description='Infection Duration', max=30, min=1, style=SliderStyle(description_width='initial')), FloatSlider(value=0.94, continuous_update=False, description='Infection Percentage', max=1.0, step=0.01, style=SliderStyle(description_width='initial')), IntSlider(value=365, continuous_update=False, description='Immunity Duration', max=1000, min=1, style=SliderStyle(description_width='initial')), Output()), _dom_classes=('widget-interact',))"
      ]
     },
     "metadata": {},
     "output_type": "display_data"
    }
   ],
   "source": [
    "def graph1(Infect, Encount, Immune):\n",
    "    m = te.loada(BSVIRD_Model)\n",
    "    m.inf_dur = Infect\n",
    "    m.beta1 = Encount\n",
    "    m.imm_dur = Immune\n",
    "    s = m.simulate(0,1000,10000,[\"time\",\"D1\",\"D2\"])\n",
    "    m.plot(title=\"Time vs Deaths\", xtitle=\"Time(days)\", ytitle=\"Deaths\", linewidth=2)\n",
    "    \n",
    "style = {'description_width': 'initial'}\n",
    "\n",
    "Infect1=IntSlider(min=1, max=30, step=1, value=14, continuous_update=False, description='Infection Duration', style=style)\n",
    "Encount1=FloatSlider(min=0, max=1.00, step=0.01, value=0.94, continuous_update=False, description='Infection Percentage', style=style)\n",
    "Immune1=IntSlider(min=1, max=1000, step=1, value=365, continuous_update=False, description='Immunity Duration', style=style)\n",
    "    \n",
    "interact(graph1, Infect= Infect1, Encount=Encount1, Immune=Immune1);"
   ]
  },
  {
   "cell_type": "markdown",
   "metadata": {},
   "source": [
    "This graph describes the total population after exposure to a COVID-19 pandemic. As seen below the graph briefly heads upwards before plunging downwards and then continuing a downward trajectory. Something to note is that this graph shows that without vaccine intervention the total deaths of the population would overwhelm the birth rate of the given population."
   ]
  },
  {
   "cell_type": "code",
   "execution_count": 13,
   "metadata": {},
   "outputs": [
    {
     "data": {
      "application/vnd.jupyter.widget-view+json": {
       "model_id": "662836e266954fa28453a996851b50c4",
       "version_major": 2,
       "version_minor": 0
      },
      "text/html": [
       "<p>Failed to display Jupyter Widget of type <code>interactive</code>.</p>\n",
       "<p>\n",
       "  If you're reading this message in the Jupyter Notebook or JupyterLab Notebook, it may mean\n",
       "  that the widgets JavaScript is still loading. If this message persists, it\n",
       "  likely means that the widgets JavaScript library is either not installed or\n",
       "  not enabled. See the <a href=\"https://ipywidgets.readthedocs.io/en/stable/user_install.html\">Jupyter\n",
       "  Widgets Documentation</a> for setup instructions.\n",
       "</p>\n",
       "<p>\n",
       "  If you're reading this message in another frontend (for example, a static\n",
       "  rendering on GitHub or <a href=\"https://nbviewer.jupyter.org/\">NBViewer</a>),\n",
       "  it may mean that your frontend doesn't currently support widgets.\n",
       "</p>\n"
      ],
      "text/plain": [
       "interactive(children=(IntSlider(value=14, continuous_update=False, description='Infection Duration', max=30, min=1, style=SliderStyle(description_width='initial')), FloatSlider(value=0.94, continuous_update=False, description='Infection Percentage', max=1.0, step=0.01, style=SliderStyle(description_width='initial')), IntSlider(value=365, continuous_update=False, description='Immunity Duration', max=1000, min=1, style=SliderStyle(description_width='initial')), Output()), _dom_classes=('widget-interact',))"
      ]
     },
     "metadata": {},
     "output_type": "display_data"
    }
   ],
   "source": [
    "def graph2(Infect, Encount, Immune):\n",
    "    m = te.loada(BSVIRD_Model)\n",
    "    m.inf_dur = Infect\n",
    "    m.beta1 = Encount\n",
    "    m.imm_dur = Immune\n",
    "    s = m.simulate(0,1000,10000,[\"time\",\"Total\"])\n",
    "    m.plot(title=\"Time vs Total Population\", xtitle=\"Time(days)\", ytitle=\"Total Population\", linewidth=2)\n",
    "    \n",
    "style = {'description_width': 'initial'}\n",
    "\n",
    "Infect1=IntSlider(min=1, max=30, step=1, value=14, continuous_update=False, description='Infection Duration', style=style)\n",
    "Encount1=FloatSlider(min=0, max=1.00, step=0.01, value=0.94, continuous_update=False, description='Infection Percentage', style=style)\n",
    "Immune1=IntSlider(min=1, max=1000, step=1, value=365, continuous_update=False, description='Immunity Duration', style=style)\n",
    "    \n",
    "interact(graph2, Infect= Infect1, Encount=Encount1, Immune=Immune1);"
   ]
  },
  {
   "cell_type": "markdown",
   "metadata": {},
   "source": [
    "This graph lists the populations of the \"S\", \"V\", \"I\", and \"R\" compartments in the BSVIRD model as a function of time. As you can observe below the populations of each health condition dip drastically before reaching a pseudo-equilibrium."
   ]
  },
  {
   "cell_type": "code",
   "execution_count": 14,
   "metadata": {},
   "outputs": [
    {
     "data": {
      "application/vnd.jupyter.widget-view+json": {
       "model_id": "a8e90e708d64458cb705e721d6b8f839",
       "version_major": 2,
       "version_minor": 0
      },
      "text/html": [
       "<p>Failed to display Jupyter Widget of type <code>interactive</code>.</p>\n",
       "<p>\n",
       "  If you're reading this message in the Jupyter Notebook or JupyterLab Notebook, it may mean\n",
       "  that the widgets JavaScript is still loading. If this message persists, it\n",
       "  likely means that the widgets JavaScript library is either not installed or\n",
       "  not enabled. See the <a href=\"https://ipywidgets.readthedocs.io/en/stable/user_install.html\">Jupyter\n",
       "  Widgets Documentation</a> for setup instructions.\n",
       "</p>\n",
       "<p>\n",
       "  If you're reading this message in another frontend (for example, a static\n",
       "  rendering on GitHub or <a href=\"https://nbviewer.jupyter.org/\">NBViewer</a>),\n",
       "  it may mean that your frontend doesn't currently support widgets.\n",
       "</p>\n"
      ],
      "text/plain": [
       "interactive(children=(IntSlider(value=14, continuous_update=False, description='Infection Duration', max=30, min=1, style=SliderStyle(description_width='initial')), FloatSlider(value=0.94, continuous_update=False, description='Infection Percentage', max=1.0, step=0.01, style=SliderStyle(description_width='initial')), IntSlider(value=365, continuous_update=False, description='Immunity Duration', max=1000, min=1, style=SliderStyle(description_width='initial')), Output()), _dom_classes=('widget-interact',))"
      ]
     },
     "metadata": {},
     "output_type": "display_data"
    }
   ],
   "source": [
    "def graph3(Infect, Encount, Immune):\n",
    "    m = te.loada(BSVIRD_Model)\n",
    "    m.inf_dur = Infect\n",
    "    m.beta1 = Encount\n",
    "    m.imm_dur = Immune\n",
    "    s = m.simulate(0,1000,10000,[\"time\",\"S\",\"V\",\"I\",\"R\"])\n",
    "    m.plot(title=\"Time vs SVIR\", xtitle=\"Time(days)\", ytitle=\"SVIR\", linewidth=2)\n",
    "    \n",
    "style = {'description_width': 'initial'}\n",
    "\n",
    "Infect1=IntSlider(min=1, max=30, step=1, value=14, continuous_update=False, description='Infection Duration', style=style)\n",
    "Encount1=FloatSlider(min=0, max=1.00, step=0.01, value=0.94, continuous_update=False, description='Infection Percentage', style=style)\n",
    "Immune1=IntSlider(min=1, max=1000, step=1, value=365, continuous_update=False, description='Immunity Duration', style=style)\n",
    "    \n",
    "interact(graph3, Infect= Infect1, Encount=Encount1, Immune=Immune1);"
   ]
  },
  {
   "cell_type": "markdown",
   "metadata": {},
   "source": [
    "R0 as it relates to diseases represents the average number of recipiants of a disease from a single infected individual. This graph showcases the average number of recipiants beginning high and then slowly approaching 1. It is important to note that if the R0 of any given disease dips below 1 the population has reached herd immunity. "
   ]
  },
  {
   "cell_type": "code",
   "execution_count": 15,
   "metadata": {},
   "outputs": [
    {
     "data": {
      "application/vnd.jupyter.widget-view+json": {
       "model_id": "0bbc00059ec545b5967af18c5cd71a1e",
       "version_major": 2,
       "version_minor": 0
      },
      "text/html": [
       "<p>Failed to display Jupyter Widget of type <code>interactive</code>.</p>\n",
       "<p>\n",
       "  If you're reading this message in the Jupyter Notebook or JupyterLab Notebook, it may mean\n",
       "  that the widgets JavaScript is still loading. If this message persists, it\n",
       "  likely means that the widgets JavaScript library is either not installed or\n",
       "  not enabled. See the <a href=\"https://ipywidgets.readthedocs.io/en/stable/user_install.html\">Jupyter\n",
       "  Widgets Documentation</a> for setup instructions.\n",
       "</p>\n",
       "<p>\n",
       "  If you're reading this message in another frontend (for example, a static\n",
       "  rendering on GitHub or <a href=\"https://nbviewer.jupyter.org/\">NBViewer</a>),\n",
       "  it may mean that your frontend doesn't currently support widgets.\n",
       "</p>\n"
      ],
      "text/plain": [
       "interactive(children=(IntSlider(value=14, continuous_update=False, description='Infection Duration', max=30, min=1, style=SliderStyle(description_width='initial')), FloatSlider(value=0.94, continuous_update=False, description='Infection Percentage', max=1.0, step=0.01, style=SliderStyle(description_width='initial')), IntSlider(value=365, continuous_update=False, description='Immunity Duration', max=1000, min=1, style=SliderStyle(description_width='initial')), Output()), _dom_classes=('widget-interact',))"
      ]
     },
     "metadata": {},
     "output_type": "display_data"
    }
   ],
   "source": [
    "def graph4(Infect, Encount, Immune):\n",
    "    m = te.loada(BSVIRD_Model)\n",
    "    m.inf_dur = Infect\n",
    "    m.beta1 = Encount\n",
    "    m.imm_dur = Immune\n",
    "    s = m.simulate(0,1000,10000,[\"time\",\"R0\"])\n",
    "    m.plot(title=\"Time vs R0\", xtitle=\"Time(days)\", ytitle=\"R0\", linewidth=2)\n",
    "    \n",
    "style = {'description_width': 'initial'}\n",
    "\n",
    "Infect1=IntSlider(min=1, max=30, step=1, value=14, continuous_update=False, description='Infection Duration', style=style)\n",
    "Encount1=FloatSlider(min=0, max=1.00, step=0.01, value=0.94, continuous_update=False, description='Infection Percentage', style=style)\n",
    "Immune1=IntSlider(min=1, max=1000, step=1, value=365, continuous_update=False, description='Immunity Duration', style=style)\n",
    "    \n",
    "interact(graph4, Infect= Infect1, Encount=Encount1, Immune=Immune1);"
   ]
  },
  {
   "cell_type": "markdown",
   "metadata": {},
   "source": [
    "## Simulation: Prevented Deaths\n",
    "This simulation is a graphical showcase that allows users to adjust several key epidemiological parameters and see how they affect the overall deaths caused by the COVID-19 pandemic. The graph showcases a \"red\" line that refers to the original pandemic situation before alteration and the \"blue\" line refers to an altered pandemic situation. As you change the parameters the altered line will move accordingly allowing for the simulation of multiple different pandemic scenarios. Generally speaking if the blue line is below the red line it means that you will have prevented COVID-19 related deaths. If the blue line is above the red line you will have increased the number of COVID-19 related deaths. Listed below are the following parameters and their initial values. The red line is based off of these initial values: \n",
    " - #### Efficacy\n",
    "This parameter governs the vaccine efficacy of a potential vaccine. Its initial value is set to 0.10 postulating a 10% efficacy rate\n",
    " - #### Start Time\n",
    "This parameter governs the start time of vaccinations. The purpose of this parameter is to simulate the time between the beginning of the pandemic and the date in which vaccines are rolled out to the susceptible population. The initial value is set to 365 days signifying a year. \n",
    " - #### Immune Duration\n",
    "This parameter governs the immune duration of both vaccines and recovering \"infected\" individuals. By adjusting this parameter you adjust the period of time in which a vaccine protects you from viral infection by way of SARS-CoV-2. The initial value is set to 365 days. \n",
    " - #### Vaccinations per Year\n",
    "This parameter governs the vaccination rate of the general populace. It signifies the amount of vaccinations a single individual takes every year beginning from the start time. The initial value is set to 1 vaccination per year. "
   ]
  },
  {
   "cell_type": "code",
   "execution_count": 25,
   "metadata": {},
   "outputs": [
    {
     "data": {
      "application/vnd.jupyter.widget-view+json": {
       "model_id": "aff9310d38264b9785d77ba83e98f8d9",
       "version_major": 2,
       "version_minor": 0
      },
      "text/html": [
       "<p>Failed to display Jupyter Widget of type <code>interactive</code>.</p>\n",
       "<p>\n",
       "  If you're reading this message in the Jupyter Notebook or JupyterLab Notebook, it may mean\n",
       "  that the widgets JavaScript is still loading. If this message persists, it\n",
       "  likely means that the widgets JavaScript library is either not installed or\n",
       "  not enabled. See the <a href=\"https://ipywidgets.readthedocs.io/en/stable/user_install.html\">Jupyter\n",
       "  Widgets Documentation</a> for setup instructions.\n",
       "</p>\n",
       "<p>\n",
       "  If you're reading this message in another frontend (for example, a static\n",
       "  rendering on GitHub or <a href=\"https://nbviewer.jupyter.org/\">NBViewer</a>),\n",
       "  it may mean that your frontend doesn't currently support widgets.\n",
       "</p>\n"
      ],
      "text/plain": [
       "interactive(children=(FloatSlider(value=0.1, continuous_update=False, description='Efficacy', max=1.0, step=0.01, style=SliderStyle(description_width='initial')), IntSlider(value=365, continuous_update=False, description='Start Time', max=1000, style=SliderStyle(description_width='initial')), IntSlider(value=365, continuous_update=False, description='Immune Duration', max=1000, min=1, style=SliderStyle(description_width='initial')), FloatSlider(value=1.0, continuous_update=False, description='Vaccinations per Year', max=10.0, style=SliderStyle(description_width='initial')), Output()), _dom_classes=('widget-interact',))"
      ]
     },
     "metadata": {},
     "output_type": "display_data"
    }
   ],
   "source": [
    "def replot(Eff,Start,Immunity, Vaccine):\n",
    "    m = te.loada(BSVIRD_Model)\n",
    "    \n",
    "    m.eff = 0\n",
    "    m.start_time = 1000\n",
    "    \n",
    "    s = m.simulate(0,800,8000,['time','D2'])\n",
    "    te.plotArray(s, \n",
    "                 show=False, \n",
    "                 color=\"Red\", \n",
    "                 labels = [\"Original\"])\n",
    "    original_deaths = m.D2 \n",
    "    m.resetAll()\n",
    "\n",
    "    m.eff = Eff\n",
    "    m.start_time = Start\n",
    "    m.imm_dur = Immunity\n",
    "    m.vaccines = Vaccine\n",
    "    s = m.simulate(0,800,8000,['time','D2'])\n",
    "    te.plotArray(s, \n",
    "                 show=True, \n",
    "                 labels = [\"Altered\"], \n",
    "                 title = \"Deaths caused by COVID-19 over Time\", \n",
    "                 xlabel = \"Time(Days)\", \n",
    "                 ylabel= \"Deaths by COVID-19\")\n",
    "    new_deaths = m.D2\n",
    "    deaths_saved = int(original_deaths - new_deaths)\n",
    "    print(\"Deaths Prevented =\",deaths_saved)\n",
    "\n",
    "    \n",
    "style = {'description_width': 'initial'}\n",
    "\n",
    "Eff1=FloatSlider(min=0, max=1, step=0.01, value=0.1, continuous_update=False, description='Efficacy', style=style)\n",
    "Start1=IntSlider(min=0, max=1000, step=1, value=365, continuous_update=False, description='Start Time', style=style)\n",
    "Immunity1=IntSlider(min=1, max=1000, step=1, value=365, continuous_update=False, description='Immune Duration', style=style)\n",
    "Vaccine1=FloatSlider(min=0, max=10, step=0.1, value=1, continuous_update=False, description='Vaccinations per Year', style=style)\n",
    "    \n",
    "interact(replot, Eff= Eff1,Start=Start1, Immunity=Immunity1, Vaccine=Vaccine1);"
   ]
  },
  {
   "cell_type": "markdown",
   "metadata": {},
   "source": [
    "## Simulation: Adjustable SVIR Model\n",
    "This simulation graphs the populations of the \"S\", \"V\", \"I\", and \"R\" compartments in the BSVIRD model as a function of time and allows users to adjust several key epidemiological parameters and measure their effects on the BSVIRD model. The adjustable parameters are the same as the ones listed in the above simulation: \n",
    " - #### Efficacy\n",
    "This parameter governs the vaccine efficacy of a potential vaccine. Its initial value is set to 0.10. \n",
    " - #### Start Time\n",
    "This parameter governs the start time of vaccinations. The purpose of this parameter is to simulate the time between the beginning of the pandemic and the date in which vaccines are rolled out to the susceptible population. The initial value is set to 365 days signifying a year. \n",
    " - #### Immune Duration\n",
    "This parameter governs the immune duration of both vaccines and recovering \"infected\" individuals. By adjusting this parameter you adjust the period of time in which a vaccine protects you from viral infection by way of SARS-CoV-2. The initial value is set to 365 days. \n",
    " - #### Vaccinations per Year\n",
    "This parameter governs the vaccination rate of the general populace. It signifies the amount of vaccinations a single individual takes every year beginning from the start time. The initial value is set to 1 vaccination per year. "
   ]
  },
  {
   "cell_type": "code",
   "execution_count": 46,
   "metadata": {},
   "outputs": [
    {
     "data": {
      "application/vnd.jupyter.widget-view+json": {
       "model_id": "70496a6a4e1e4af4ba8fd6100768272e",
       "version_major": 2,
       "version_minor": 0
      },
      "text/html": [
       "<p>Failed to display Jupyter Widget of type <code>interactive</code>.</p>\n",
       "<p>\n",
       "  If you're reading this message in the Jupyter Notebook or JupyterLab Notebook, it may mean\n",
       "  that the widgets JavaScript is still loading. If this message persists, it\n",
       "  likely means that the widgets JavaScript library is either not installed or\n",
       "  not enabled. See the <a href=\"https://ipywidgets.readthedocs.io/en/stable/user_install.html\">Jupyter\n",
       "  Widgets Documentation</a> for setup instructions.\n",
       "</p>\n",
       "<p>\n",
       "  If you're reading this message in another frontend (for example, a static\n",
       "  rendering on GitHub or <a href=\"https://nbviewer.jupyter.org/\">NBViewer</a>),\n",
       "  it may mean that your frontend doesn't currently support widgets.\n",
       "</p>\n"
      ],
      "text/plain": [
       "interactive(children=(FloatSlider(value=0.1, continuous_update=False, description='Efficacy', max=1.0, step=0.01, style=SliderStyle(description_width='initial')), IntSlider(value=365, continuous_update=False, description='Start Time', max=1000, style=SliderStyle(description_width='initial')), IntSlider(value=365, continuous_update=False, description='Immune Duration', max=1000, min=1, style=SliderStyle(description_width='initial')), FloatSlider(value=1.0, continuous_update=False, description='Vaccinations per Year', max=10.0, style=SliderStyle(description_width='initial')), Output()), _dom_classes=('widget-interact',))"
      ]
     },
     "metadata": {},
     "output_type": "display_data"
    }
   ],
   "source": [
    "def replot2(Eff,Start,Immunity,Vaccine):\n",
    "    m = te.loada(BSVIRD_Model)\n",
    "    \n",
    "    m.eff = 0\n",
    "    m.start_time = 1000\n",
    "\n",
    "    m.eff = Eff\n",
    "    m.start_time = Start\n",
    "    m.imm_dur = Immunity\n",
    "    m.vaccines = Vaccine\n",
    "    s = m.simulate(0,800,8000)\n",
    "    m.plot(title=\"Time vs SVIR\", xtitle=\"Time(days)\", ytitle=\"SVIR\", linewidth=2)\n",
    "    \n",
    "style = {'description_width': 'initial'}\n",
    "\n",
    "Eff1=FloatSlider(min=0, max=1, step=0.01, value=0.1, continuous_update=False, description='Efficacy', style=style)\n",
    "Start1=IntSlider(min=0, max=1000, step=1, value=365, continuous_update=False, description='Start Time', style=style)\n",
    "Immunity1=IntSlider(min=1, max=1000, step=1, value=365, continuous_update=False, description='Immune Duration', style=style)\n",
    "Vaccine1=FloatSlider(min=0, max=10, step=0.1, value=1, continuous_update=False, description='Vaccinations per Year', style=style)\n",
    "    \n",
    "interact(replot2, Eff= Eff1,Start=Start1, Immunity=Immunity1, Vaccine=Vaccine1);"
   ]
  },
  {
   "cell_type": "markdown",
   "metadata": {},
   "source": [
    "## BSVIRD Double Vaccination Model\n",
    "Unlike the simulations listed above, which were all based off of a postulated scenario in which only one dose of the vaccine is required to achieve complete immunity, the simulations listed below are based off of a postulated scenario in which two vaccine doses are required to achieve immunity. Under these circumstances intaking one dose gives an individual a fraction of the efficacy that two doses give raising important questions about the differences in vaccine distribution momentum. Is it wiser to give half a population two doses of a vaccine to reach complete immunity or is more logical to give the entire population one dose in hopes of giving them a fraction of the efficacy of two doses? To better engage with this question the BSVIRD model has been augmented to provide an emulation that can simulate a two dose vaccination scenario. \n",
    "\n",
    "<img src=\"files/imagee3.png\">\n",
    "\n",
    "Largely the BSVIRD model listed here is roughly the same model as before with important changes having been done on specifically the viral compartments. First and foremost in order to properly emulate a two dose scenario there are now two viral compartments; \"V1\" and \"V2\". These two compartments represent the population of people who have received one dose (V1) and the population of people who have received two doses (V2). The movement between these compartments and the \"S\" compartment represent the rate in which people will gain and lose their immunity to the virus. The movement between these compartments and the \"I\" compartment naturally represent the infection rate from vaccination. Finally the movement between the \"V1\" and \"V2\" compartments represent the rate in which individuals with one dose already administered recieve one more dose and thusly becoming individuals who have recieved two doses and have achieved the complete efficacy provided by the vaccinations.\n",
    "\n",
    "### New Equations\n",
    "    E2:  S  -> V1 ; dp1 * S ; // Vaccination rate per person (one dose)\n",
    "    E3:  V1 -> S  ; gamma1 * V1 ; // Vaccinated immunity loss rate (one dose)\n",
    "    E4:  V1 -> V2 ; dp2 * V1 ; // Vaccination rate per person (two doses)\n",
    "    E5:  V2 -> S  ; gamma1 * V2 ; // Vaccinated immunity loss rate (two doses)\n",
    "    E7:  V1 -> I  ; alpha1 * beta1 * n * V1 * I / S0 ; // Infection rate (one dose)\n",
    "    E8:  V2 -> I  ; alpha2 * beta1 * n * V2 * I / S0 ; // Infection rate (two doses)\n",
    "    E12: V1 -> D1 ; d * V1 ; // Death rate of V1\n",
    "    E13: V2 -> D1 ; d * V2 ; // Death rate of V2\n",
    "\n",
    "### New Parameters\n",
    "    alpha1 := 1 - eff1 ; // Vaccine inefficacy (one dose)\n",
    "    alpha2 := 1 - eff2 ; // Vaccine inefficacy (two doses)\n",
    "    eff1 := eff2 * fracc ; // Vaccine efficacy (one dose)\n",
    "    eff2 = 0.90 ; // Vaccine efficacy (two doses)\n",
    "    dp1 := (0.5 + effort/2) * d_prime ; // Rate of First Vaccination\n",
    "    dp2 := (0.5 - effort/2) * d_prime ; // Rate of Second Vaccination\n",
    "    effort = 0 ; // Vaccine distribution method\n",
    "    fracc = 0.50 ; // Fractional efficacy of the first dose\n",
    "    \n",
    "### Important Notes \n",
    "Some of the new parameters are harder to understand from description alone. In-depth definitions have been provided for those new parameters.\n",
    "\n",
    " - #### effort\n",
    "\"effort\" is a value that represents the different approaches to vaccination distribution momentum. When effort = 0 the scenario in which half of the population receives two doses of the vaccine is in effect. When effort = 1 the scenario in which the entire population receives one dose of the vaccine is in effect. Naturally the best vaccination distribution method would likely be somewhere in between these two extremes. \"effort\" is initially set to 0. \n",
    " - #### fracc\n",
    "\"fracc\" is representative of the fractional efficacy that one dose of the vaccine provides. Since the postulation is that two vaccine doses are required to achieve complete efficacy the \"fracc\" variable is particularly useful as it allows users to test different fractional efficacies in which only one dose of the vaccine would provide. \"fracc\" is initially set to 0.50 or 50% meaning that one dose of the vaccine is half the efficacy of two doses. (90% efficacy for two doses means 45% efficacy in this scenario). "
   ]
  },
  {
   "cell_type": "code",
   "execution_count": 48,
   "metadata": {},
   "outputs": [],
   "source": [
    "BSVIRDS_Model = '''\n",
    "    // Equations\n",
    "    E1:     -> S  ; b * (S + V1 + I + R) ; // Birth rate\n",
    "    E2:  S  -> V1 ; dp1 * S ; // Vaccination rate per person (one dose)\n",
    "    E3:  V1 -> S  ; gamma1 * V1 ; // Vaccinated immunity loss rate (one dose)\n",
    "    E4:  V1 -> V2 ; dp2 * V1 ; // Vaccination rate per person (two doses)\n",
    "    E5:  V2 -> S  ; gamma1 * V2 ; // Vaccinated immunity loss rate (two doses)\n",
    "    E6:  S  -> I  ; n * beta1 * I * S / S0 ; // Infection rate\n",
    "    E7:  V1 -> I  ; alpha1 * beta1 * n * V1 * I / S0 ; // Infection rate (one dose)\n",
    "    E8:  V2 -> I  ; alpha2 * beta1 * n * V2 * I / S0 ; // Infection rate (two doses)\n",
    "    E9:  I  -> R  ; mu * I ; // Recovery rate\n",
    "    E10: R  -> S  ; gamma1 * R ; // Recovered immunity loss rate\n",
    "    E11: S  -> D1 ; d * S ; // Death rate of S\n",
    "    E12: V1 -> D1 ; d * V1 ; // Death rate of V1\n",
    "    E13: V2 -> D1 ; d * V2 ; // Death rate of V2\n",
    "    E14: I  -> D1 ; d * I ; // Death rate of I\n",
    "    E15: R  -> D1 ; d * R ; // Death rate of R\n",
    "    E16: I  -> D2 ; d2 * I ; // SARS-CoV-2 death rate\n",
    "     \n",
    "    R0 := ((beta1 * n) / mu) * S / Total ; // Average number of recipiants of a disease from a single infected person\n",
    "    Total := S + V1 + V2 + I + R ; // Total population\n",
    "    Disease_Deaths := E16 / (E11 + E12 + E13 + E14 + E15 + E16) ; // Percentage of deaths caused by SARS-CoV-2\n",
    "    \n",
    "    // Parameters\n",
    "    alpha1 := 1 - eff1 ; // Vaccine inefficacy (one dose)\n",
    "    alpha2 := 1 - eff2 ; // Vaccine inefficacy (two doses)\n",
    "    eff1 := eff2 * fracc ; // Vaccine efficacy (one dose)\n",
    "    eff2 = 0.90 ; // Vaccine efficacy (two doses)\n",
    "    beta1 = 0.94 ; // Probability of infection per encounter\n",
    "    gamma1 := 1 / imm_dur ; // Immunity loss rate\n",
    "    imm_dur = 2 * 180 ; // Duration of immunity in days\n",
    "    n = 0.455 ; // Numbers of encounters per person per day\n",
    "    mu := 1 / inf_dur ; // Infection lasts 14 days\n",
    "    inf_dur = 14 ; // Duration of infection in days\n",
    "    b = 1.1 / (80 * 365) ; // Births per person per day\n",
    "    d = 1.0 / (80 * 365) ; // Deaths per person per day\n",
    "    d2 = ((0.003 * mu) * 2) - d ; // SARS-CoV-2 deaths per person per day\n",
    "    d_prime = vaccines/365 ; // Vaccination rate\n",
    "    dp1 := (0.5 + effort/2) * d_prime ; // Rate of First Vaccination\n",
    "    dp2 := (0.5 - effort/2) * d_prime ; // Rate of Second Vaccination\n",
    "    at(time > start_time): d_prime = vaccines/365 ; // Vaccination rate\n",
    "    start_time = 365 ; // Vaccine is released in 1 year\n",
    "    vaccines = 0 ; // Number of vaccinations per person per year\n",
    "    \n",
    "    effort = 0 ; // Vaccine distribution method\n",
    "    fracc = 0.50 ; // Fractional efficacy of the first dose\n",
    "    \n",
    "    // Initial Conditions\n",
    "    S0 = 3E8 ; // Initial susceptible population\n",
    "    I0 = 1 ; // Initial infected population\n",
    "    I = I0 ; // Start with one infected person\n",
    "    S = S0 - I ; // Start with S0 - I uninfected people\n",
    "    R = 0 ; // No recovered to start with\n",
    "    \n",
    "    D1 = 1 ; // Total number of deaths\n",
    "    D2 = 0 ; // Total number of SARS-CoV-2 deaths\n",
    "'''"
   ]
  },
  {
   "cell_type": "markdown",
   "metadata": {},
   "source": [
    "## Simulation Adjustable Parameters\n",
    " - #### Effort\n",
    "This parameter is representative of the different approaches to vaccination distribution. When effort = 0 the scenario in which half of the population receives two doses of the vaccine is in effect. When effort = 1 the scenario in which the entire population receives one dose of the vaccine is in effect. \"effort\" is initially set to 0. \n",
    " - #### Fractional Efficacy\n",
    "This parameter is representative of the fractional efficacy that one dose of the vaccine provides. Since the postulation is that two vaccine doses are required to achieve complete efficacy the fractional efficacy is particularly useful as it allows users to test different fractional efficacies for which only one dose of the vaccine would provide. \"fractional efficacy\" is initially set to 0.50 or 50% meaning that one dose of the vaccine is half the efficacy of two doses. (90% efficacy for two doses means 45% efficacy for one dose in this scenario).\n",
    " - #### Efficacy\n",
    "This parameter is representative of the total vaccine efficacy provided by two doses of the vaccine. Its initial value is set to 0.10. \n",
    " - #### Start Time\n",
    "This parameter is representative of the start time of the vaccinations. The purpose of this parameter is to simulate the time between the beginning of the pandemic and the date in which vaccines are rolled out to the susceptible population. The initial value is set to 365 days signifying a year. \n",
    " - #### Immune Duration\n",
    "This parameter governs the immune duration of both vaccines and recovering \"infected\" individuals. By adjusting this parameter you adjust the period of time in which a vaccine protects you from viral infection by way of SARS-CoV-2. The initial value is set to 365 days. \n",
    " - #### Vaccinations per Year\n",
    "This parameter governs the vaccination rate of the general populace. It signifies the amount of vaccinations a single individual takes every year beginning from the start time. The initial value is set to 1 vaccination per year. \n"
   ]
  },
  {
   "cell_type": "markdown",
   "metadata": {},
   "source": [
    "## Simulation: Adjustable SVIR Model (Double Vaccination Model)\n",
    "This simulation graphs the populations of the \"S\", \"V1\", \"V2\", \"I\", and \"R\" compartments of the BSVIRD double vaccination model as a function of time and allows users to adjust several key epidemiological parameters and measure their effects on the model."
   ]
  },
  {
   "cell_type": "code",
   "execution_count": 49,
   "metadata": {},
   "outputs": [
    {
     "data": {
      "application/vnd.jupyter.widget-view+json": {
       "model_id": "b88aed5dfcff40239190c4df2d77e039",
       "version_major": 2,
       "version_minor": 0
      },
      "text/html": [
       "<p>Failed to display Jupyter Widget of type <code>interactive</code>.</p>\n",
       "<p>\n",
       "  If you're reading this message in the Jupyter Notebook or JupyterLab Notebook, it may mean\n",
       "  that the widgets JavaScript is still loading. If this message persists, it\n",
       "  likely means that the widgets JavaScript library is either not installed or\n",
       "  not enabled. See the <a href=\"https://ipywidgets.readthedocs.io/en/stable/user_install.html\">Jupyter\n",
       "  Widgets Documentation</a> for setup instructions.\n",
       "</p>\n",
       "<p>\n",
       "  If you're reading this message in another frontend (for example, a static\n",
       "  rendering on GitHub or <a href=\"https://nbviewer.jupyter.org/\">NBViewer</a>),\n",
       "  it may mean that your frontend doesn't currently support widgets.\n",
       "</p>\n"
      ],
      "text/plain": [
       "interactive(children=(FloatSlider(value=0.0, continuous_update=False, description='Effort', max=1.0, step=0.01, style=SliderStyle(description_width='initial')), FloatSlider(value=0.5, continuous_update=False, description='Fractional Efficacy', max=1.0, step=0.01, style=SliderStyle(description_width='initial')), FloatSlider(value=0.1, continuous_update=False, description='Efficacy', max=1.0, step=0.01, style=SliderStyle(description_width='initial')), IntSlider(value=365, continuous_update=False, description='Start Time', max=1000, style=SliderStyle(description_width='initial')), IntSlider(value=365, continuous_update=False, description='Immune Duration', max=1000, min=1, style=SliderStyle(description_width='initial')), FloatSlider(value=1.0, continuous_update=False, description='Vaccinations per Year', max=10.0, style=SliderStyle(description_width='initial')), Output()), _dom_classes=('widget-interact',))"
      ]
     },
     "metadata": {},
     "output_type": "display_data"
    }
   ],
   "source": [
    "def graph5(Effort, Fracc, Eff, Start, Immunity, Vaccine):\n",
    "    m = te.loada(BSVIRDS_Model)\n",
    "    m.effort = Effort\n",
    "    m.fracc = Fracc\n",
    "    m.eff2 = Eff\n",
    "    m.start_time = Start\n",
    "    m.imm_dur = Immunity\n",
    "    m.vaccines = Vaccine\n",
    "    s = m.simulate(0,1000,10000,[\"time\",\"S\",\"V1\",\"V2\",\"I\",\"R\"])\n",
    "    m.plot(title=\"Time vs SVIR\", xtitle=\"Time(days)\", ytitle=\"SVIR\", linewidth=2)\n",
    "    \n",
    "style = {'description_width': 'initial'}\n",
    "\n",
    "Effort1=FloatSlider(min=0, max=1.00, step=0.01, value=0.00, continuous_update=False, description='Effort', style=style)\n",
    "Fracc1=FloatSlider(min=0, max=1.00, step=0.01, value=0.50, continuous_update=False, description='Fractional Efficacy', style=style)\n",
    "Eff1=FloatSlider(min=0, max=1, step=0.01, value=0.1, continuous_update=False, description='Efficacy', style=style)\n",
    "Start1=IntSlider(min=0, max=1000, step=1, value=365, continuous_update=False, description='Start Time', style=style)\n",
    "Immunity1=IntSlider(min=1, max=1000, step=1, value=365, continuous_update=False, description='Immune Duration', style=style)\n",
    "Vaccine1=FloatSlider(min=0, max=10, step=0.1, value=1, continuous_update=False, description='Vaccinations per Year', style=style)\n",
    "    \n",
    "interact(graph5, Effort=Effort1, Fracc=Fracc1, Eff=Eff1, Start=Start1, Immunity=Immunity1, Vaccine=Vaccine1);"
   ]
  },
  {
   "cell_type": "markdown",
   "metadata": {},
   "source": [
    "## Simulation: Prevented Deaths (Double Vaccination Model)\n",
    "\n",
    "\n",
    "\n",
    "Similarly to the simulation above this graphical showcase allows users to adjust several key epidemiological parameters and see how they affect the overall deaths caused by the COVID-19 pandemic. The \"red\" line is representative of the original pandemic situation before alteration and the \"blue\" line refers to the altered pandemic situation. If the blue line is below the red line it usually means you will have prevented COVID-19 related deaths and if the blue line is above the red line then you will have increased the number of COVID-19 related deaths."
   ]
  },
  {
   "cell_type": "code",
   "execution_count": 50,
   "metadata": {},
   "outputs": [
    {
     "data": {
      "application/vnd.jupyter.widget-view+json": {
       "model_id": "3826a26a533f4576bfdc28923b2c3f96",
       "version_major": 2,
       "version_minor": 0
      },
      "text/html": [
       "<p>Failed to display Jupyter Widget of type <code>interactive</code>.</p>\n",
       "<p>\n",
       "  If you're reading this message in the Jupyter Notebook or JupyterLab Notebook, it may mean\n",
       "  that the widgets JavaScript is still loading. If this message persists, it\n",
       "  likely means that the widgets JavaScript library is either not installed or\n",
       "  not enabled. See the <a href=\"https://ipywidgets.readthedocs.io/en/stable/user_install.html\">Jupyter\n",
       "  Widgets Documentation</a> for setup instructions.\n",
       "</p>\n",
       "<p>\n",
       "  If you're reading this message in another frontend (for example, a static\n",
       "  rendering on GitHub or <a href=\"https://nbviewer.jupyter.org/\">NBViewer</a>),\n",
       "  it may mean that your frontend doesn't currently support widgets.\n",
       "</p>\n"
      ],
      "text/plain": [
       "interactive(children=(FloatSlider(value=0.0, continuous_update=False, description='Effort', max=1.0, step=0.01, style=SliderStyle(description_width='initial')), FloatSlider(value=0.5, continuous_update=False, description='Fractional Efficacy', max=1.0, step=0.01, style=SliderStyle(description_width='initial')), FloatSlider(value=0.1, continuous_update=False, description='Efficacy', max=1.0, step=0.01, style=SliderStyle(description_width='initial')), IntSlider(value=365, continuous_update=False, description='Start Time', max=1000, style=SliderStyle(description_width='initial')), IntSlider(value=365, continuous_update=False, description='Immune Duration', max=1000, min=1, style=SliderStyle(description_width='initial')), FloatSlider(value=1.0, continuous_update=False, description='Vaccinations per Year', max=10.0, style=SliderStyle(description_width='initial')), Output()), _dom_classes=('widget-interact',))"
      ]
     },
     "metadata": {},
     "output_type": "display_data"
    }
   ],
   "source": [
    "def replot3(Effort,Fracc,Eff,Start,Immunity,Vaccine):\n",
    "    m = te.loada(BSVIRDS_Model)\n",
    "    \n",
    "    m.eff = 0\n",
    "    m.start_time = 1000\n",
    "    \n",
    "    s = m.simulate(0,800,8000,['time','D2'])\n",
    "    te.plotArray(s, \n",
    "                 show=False, \n",
    "                 color=\"Red\", \n",
    "                 labels = [\"Original\"])\n",
    "    original_deaths = m.D2 \n",
    "    m.resetAll()\n",
    "\n",
    "    m.effort = Effort\n",
    "    m.fracc = Fracc\n",
    "    m.eff2 = Eff\n",
    "    m.start_time = Start\n",
    "    m.imm_dur = Immunity\n",
    "    m.vaccines = Vaccine\n",
    "    s = m.simulate(0,800,8000,['time','D2'])\n",
    "    te.plotArray(s, \n",
    "                 show=True, \n",
    "                 labels = [\"Altered\"], \n",
    "                 title = \"Deaths caused by COVID-19 over Time\", \n",
    "                 xlabel = \"Time(Days)\", \n",
    "                 ylabel= \"Deaths by COVID-19\")\n",
    "    new_deaths = m.D2\n",
    "    deaths_saved = int(original_deaths - new_deaths)\n",
    "    print(\"Deaths Prevented =\",deaths_saved)\n",
    "\n",
    "    \n",
    "style = {'description_width': 'initial'}\n",
    "\n",
    "Effort1=FloatSlider(min=0, max=1.00, step=0.01, value=0.00, continuous_update=False, description='Effort', style=style)\n",
    "Fracc1=FloatSlider(min=0, max=1.00, step=0.01, value=0.50, continuous_update=False, description='Fractional Efficacy', style=style)\n",
    "Eff1=FloatSlider(min=0, max=1, step=0.01, value=0.1, continuous_update=False, description='Efficacy', style=style)\n",
    "Start1=IntSlider(min=0, max=1000, step=1, value=365, continuous_update=False, description='Start Time', style=style)\n",
    "Immunity1=IntSlider(min=1, max=1000, step=1, value=365, continuous_update=False, description='Immune Duration', style=style)\n",
    "Vaccine1=FloatSlider(min=0, max=10, step=0.1, value=1, continuous_update=False, description='Vaccinations per Year', style=style)\n",
    "\n",
    "interact(replot3, Effort=Effort1, Fracc=Fracc1, Eff=Eff1, Start=Start1, Immunity=Immunity1, Vaccine=Vaccine1);"
   ]
  },
  {
   "cell_type": "markdown",
   "metadata": {},
   "source": [
    "# See also\n",
    " - “Compartmental Models in Epidemiology.” Wikipedia, Wikimedia Foundation, 21 Dec. 2020, en.wikipedia.org/wiki/Compartmental_models_in_epidemiology. \n",
    " - “Now We Have the Coronavirus Vaccine, How Soon Can We Get Back to Normal Life?” The Guardian, Guardian News and Media, 10 Jan. 2021, www.theguardian.com/world/2021/jan/10/now-we-have-the-coronavirus-vaccine-how-soon-can-we-get-back-to-normal-life. \n",
    " - “Plan for the Future Now or Covid Will Last for Years, UK Scientists Warn.” The Guardian, Guardian News and Media, 10 Jan. 2021, www.theguardian.com/world/2021/jan/10/plan-for-the-future-now-or-covid-will-last-for-years-uk-scientists-warn. \n",
    " - Palca, Joe. “Math Can Help In Deciding How To Distribute The Vaccine.” NPR, NPR, 10 Jan. 2021, www.npr.org/2021/01/10/955384322/vaccine-strategies. "
   ]
  },
  {
   "cell_type": "markdown",
   "metadata": {},
   "source": [
    "# References\n",
    " - “COVID-19 CORONAVIRUS PANDEMIC” Worldometer, www.worldometers.info/coronavirus/. \n",
    " - “Clinical Questions about COVID-19: Questions and Answers.” Centers for Disease Control and Prevention, www.cdc.gov/coronavirus/2019-ncov/hcp/faq.html. \n",
    " - “Severe Acute Respiratory Syndrome Coronavirus 2.” Wikipedia, Wikimedia Foundation, 30 Dec. 2020, en.wikipedia.org/wiki/Severe_acute_respiratory_syndrome_coronavirus_2. "
   ]
  },
  {
   "cell_type": "code",
   "execution_count": null,
   "metadata": {},
   "outputs": [],
   "source": []
  }
 ],
 "metadata": {
  "kernelspec": {
   "display_name": "Python 3",
   "language": "python",
   "name": "python3"
  },
  "language_info": {
   "codemirror_mode": {
    "name": "ipython",
    "version": 3
   },
   "file_extension": ".py",
   "mimetype": "text/x-python",
   "name": "python",
   "nbconvert_exporter": "python",
   "pygments_lexer": "ipython3",
   "version": "3.6.5"
  }
 },
 "nbformat": 4,
 "nbformat_minor": 2
}
